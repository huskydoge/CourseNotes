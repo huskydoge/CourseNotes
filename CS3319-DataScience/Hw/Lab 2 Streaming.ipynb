{
 "cells": [
  {
   "cell_type": "markdown",
   "id": "47b5315a",
   "metadata": {
    "papermill": {
     "duration": 0.027786,
     "end_time": "2024-06-01T06:30:52.440385",
     "exception": false,
     "start_time": "2024-06-01T06:30:52.412599",
     "status": "completed"
    },
    "tags": []
   },
   "source": [
    "# CS3319-02 Lab 2"
   ]
  },
  {
   "cell_type": "markdown",
   "id": "bd735eeb",
   "metadata": {
    "papermill": {
     "duration": 0.026206,
     "end_time": "2024-06-01T06:30:52.493888",
     "exception": false,
     "start_time": "2024-06-01T06:30:52.467682",
     "status": "completed"
    },
    "tags": []
   },
   "source": [
    "## **Task1：Count Min Sketch**\n",
    "\n",
    "Count Min Sketch (CMS) is an efficient algorithm in processing large streams. CMS can estimate the frequency of each type of elements in the stream. In this coding, you're given the `stream_data.txt` (binary stream), and you need to implement the CMS algorithm to count the number of 1-bits. Write code below."
   ]
  },
  {
   "cell_type": "markdown",
   "id": "00843cc2",
   "metadata": {
    "papermill": {
     "duration": 0.025685,
     "end_time": "2024-06-01T06:30:52.547055",
     "exception": false,
     "start_time": "2024-06-01T06:30:52.521370",
     "status": "completed"
    },
    "tags": []
   },
   "source": [
    "### 1. Set the size of hashset to 1000, the depth(number) of hash function to 5, and count the number of 1-bits in the whole stream."
   ]
  },
  {
   "cell_type": "code",
   "execution_count": 1,
   "id": "2751b249",
   "metadata": {
    "execution": {
     "iopub.execute_input": "2024-06-01T06:30:52.601079Z",
     "iopub.status.busy": "2024-06-01T06:30:52.600679Z",
     "iopub.status.idle": "2024-06-01T06:30:52.613244Z",
     "shell.execute_reply": "2024-06-01T06:30:52.612214Z"
    },
    "papermill": {
     "duration": 0.042856,
     "end_time": "2024-06-01T06:30:52.615906",
     "exception": false,
     "start_time": "2024-06-01T06:30:52.573050",
     "status": "completed"
    },
    "tags": []
   },
   "outputs": [],
   "source": [
    "import numpy as np\n",
    "import hashlib"
   ]
  },
  {
   "cell_type": "code",
   "execution_count": 2,
   "id": "eef291fe",
   "metadata": {
    "execution": {
     "iopub.execute_input": "2024-06-01T06:30:52.670566Z",
     "iopub.status.busy": "2024-06-01T06:30:52.669855Z",
     "iopub.status.idle": "2024-06-01T06:30:54.309284Z",
     "shell.execute_reply": "2024-06-01T06:30:54.308235Z"
    },
    "papermill": {
     "duration": 1.669358,
     "end_time": "2024-06-01T06:30:54.311701",
     "exception": false,
     "start_time": "2024-06-01T06:30:52.642343",
     "status": "completed"
    },
    "tags": []
   },
   "outputs": [
    {
     "data": {
      "text/plain": [
       "15868"
      ]
     },
     "execution_count": 2,
     "metadata": {},
     "output_type": "execute_result"
    }
   ],
   "source": [
    "# Your code here, you can add cells if necessary\n",
    "\n",
    "width = 1000\n",
    "depth = 5\n",
    "\n",
    "file_path = '/kaggle/input/streaming/stream_data.txt'\n",
    "\n",
    "with open(file_path, 'r') as file:\n",
    "    binary_stream = file.read().strip()\n",
    "\n",
    "def get_hash_functions(num_hashes, max_val):\n",
    "    def hash_function_factory(i):\n",
    "        def hash_function(x):\n",
    "            return int(hashlib.md5((str(i) + x).encode('utf-8')).hexdigest(), 16) % max_val\n",
    "        return hash_function\n",
    "    \n",
    "    return [hash_function_factory(i) for i in range(num_hashes)]\n",
    "\n",
    "\n",
    "class CountMinSketch:\n",
    "    def __init__(self, width, depth):\n",
    "        self.width = width\n",
    "        self.depth = depth\n",
    "        self.table = np.zeros((depth, width), dtype=int)\n",
    "        self.hash_functions = get_hash_functions(depth, width)\n",
    "\n",
    "    def add(self, item):\n",
    "        for i, hash_func in enumerate(self.hash_functions):\n",
    "            index = hash_func(item)\n",
    "            self.table[i][index] += 1\n",
    "\n",
    "    def count(self, item):\n",
    "        min_count = float('inf')\n",
    "        for i, hash_func in enumerate(self.hash_functions):\n",
    "            index = hash_func(item)\n",
    "            min_count = min(min_count, self.table[i][index])\n",
    "        return min_count\n",
    "    \n",
    "\n",
    "cms = CountMinSketch(width, depth)\n",
    "\n",
    "# Add all bits to the Count Min Sketch\n",
    "for bit in binary_stream:\n",
    "    cms.add(bit)\n",
    "\n",
    "# Count the number of 1-bits in the whole stream using CMS\n",
    "one_bits_count_cms = cms.count('1')\n",
    "one_bits_count_cms\n"
   ]
  },
  {
   "cell_type": "markdown",
   "id": "f3a0ee16",
   "metadata": {
    "papermill": {
     "duration": 0.026847,
     "end_time": "2024-06-01T06:30:54.365370",
     "exception": false,
     "start_time": "2024-06-01T06:30:54.338523",
     "status": "completed"
    },
    "tags": []
   },
   "source": [
    "### 2. Set the size of hashset and the depth(number) of hash function to your liking, and count the number of 1-bits in the whole stream."
   ]
  },
  {
   "cell_type": "code",
   "execution_count": 3,
   "id": "b1bd4463",
   "metadata": {
    "execution": {
     "iopub.execute_input": "2024-06-01T06:30:54.423077Z",
     "iopub.status.busy": "2024-06-01T06:30:54.422271Z",
     "iopub.status.idle": "2024-06-01T06:30:55.147713Z",
     "shell.execute_reply": "2024-06-01T06:30:55.146752Z"
    },
    "papermill": {
     "duration": 0.757027,
     "end_time": "2024-06-01T06:30:55.150229",
     "exception": false,
     "start_time": "2024-06-01T06:30:54.393202",
     "status": "completed"
    },
    "tags": []
   },
   "outputs": [
    {
     "data": {
      "text/plain": [
       "15868"
      ]
     },
     "execution_count": 3,
     "metadata": {},
     "output_type": "execute_result"
    }
   ],
   "source": [
    "# Your code here, you can add cells if necessary\n",
    "\n",
    "width = 3\n",
    "depth = 2\n",
    "cms = CountMinSketch(width, depth)\n",
    "\n",
    "# Add all bits to the Count Min Sketch\n",
    "for bit in binary_stream:\n",
    "    cms.add(bit)\n",
    "\n",
    "# Count the number of 1-bits in the whole stream using CMS\n",
    "one_bits_count_cms = cms.count('1')\n",
    "one_bits_count_cms"
   ]
  },
  {
   "cell_type": "markdown",
   "id": "32358b93",
   "metadata": {
    "papermill": {
     "duration": 0.027942,
     "end_time": "2024-06-01T06:30:55.205656",
     "exception": false,
     "start_time": "2024-06-01T06:30:55.177714",
     "status": "completed"
    },
    "tags": []
   },
   "source": [
    "### 3. Write a function that accurately counts the number of 1-bits in the current window. Caculate the accuracy of your own CMS algorithm and compare the running time difference."
   ]
  },
  {
   "cell_type": "code",
   "execution_count": 4,
   "id": "777a0acb",
   "metadata": {
    "execution": {
     "iopub.execute_input": "2024-06-01T06:30:55.263035Z",
     "iopub.status.busy": "2024-06-01T06:30:55.262696Z",
     "iopub.status.idle": "2024-06-01T06:30:55.277355Z",
     "shell.execute_reply": "2024-06-01T06:30:55.276461Z"
    },
    "papermill": {
     "duration": 0.046028,
     "end_time": "2024-06-01T06:30:55.279819",
     "exception": false,
     "start_time": "2024-06-01T06:30:55.233791",
     "status": "completed"
    },
    "tags": []
   },
   "outputs": [
    {
     "name": "stdout",
     "output_type": "stream",
     "text": [
      "Accurate count of 1-bits: 15868\n",
      "CMS estimated count of 1-bits: 15868\n",
      "Accuracy of CMS: 100.0 %\n",
      "Running time for accurate count: 0.0003819465637207031\n",
      "Running time for CMS count: 0.0001327991485595703\n"
     ]
    }
   ],
   "source": [
    "# Your code here, you can add cells if necessary\n",
    "import time\n",
    "def count_accurate_1_bits(binary_stream):\n",
    "    return binary_stream.count('1')\n",
    "\n",
    "# Accurate count\n",
    "accurate_count = count_accurate_1_bits(binary_stream)\n",
    "\n",
    "# CMS count\n",
    "cms_count = cms.count('1')\n",
    "\n",
    "print(\"Accurate count of 1-bits:\", accurate_count)\n",
    "print(\"CMS estimated count of 1-bits:\", cms_count)\n",
    "\n",
    "accuracy = (cms_count / accurate_count) * 100\n",
    "print(\"Accuracy of CMS:\", accuracy, \"%\")\n",
    "\n",
    "# Compare running time\n",
    "start_time_accurate = time.time()\n",
    "accurate_count = count_accurate_1_bits(binary_stream)\n",
    "end_time_accurate = time.time()\n",
    "\n",
    "start_time_cms = time.time()\n",
    "cms_count = cms.count('1')\n",
    "end_time_cms = time.time()\n",
    "\n",
    "print(\"Running time for accurate count:\", end_time_accurate - start_time_accurate)\n",
    "print(\"Running time for CMS count:\", end_time_cms - start_time_cms)"
   ]
  },
  {
   "cell_type": "markdown",
   "id": "0d8cb1f3",
   "metadata": {
    "papermill": {
     "duration": 0.027164,
     "end_time": "2024-06-01T06:30:55.334907",
     "exception": false,
     "start_time": "2024-06-01T06:30:55.307743",
     "status": "completed"
    },
    "tags": []
   },
   "source": [
    "## **Task2：Bloom Filter**\n",
    "\n",
    "A Bloom filter is a space-efficient probabilistic data structure. Here the task is to implement a bloom filter by yourself. "
   ]
  },
  {
   "cell_type": "markdown",
   "id": "eed59488",
   "metadata": {
    "papermill": {
     "duration": 0.027364,
     "end_time": "2024-06-01T06:30:55.389939",
     "exception": false,
     "start_time": "2024-06-01T06:30:55.362575",
     "status": "completed"
    },
    "tags": []
   },
   "source": [
    "### Data loading\n",
    "\n",
    "From the NLTK (Natural Language ToolKit) library, we import a large list of English dictionary words, commonly used by the very first spell-checking programs in Unix-like operating systems."
   ]
  },
  {
   "cell_type": "code",
   "execution_count": 5,
   "id": "80a373f4",
   "metadata": {
    "execution": {
     "iopub.execute_input": "2024-06-01T06:30:55.449457Z",
     "iopub.status.busy": "2024-06-01T06:30:55.449112Z",
     "iopub.status.idle": "2024-06-01T06:30:57.601355Z",
     "shell.execute_reply": "2024-06-01T06:30:57.600268Z"
    },
    "papermill": {
     "duration": 2.184049,
     "end_time": "2024-06-01T06:30:57.604189",
     "exception": false,
     "start_time": "2024-06-01T06:30:55.420140",
     "status": "completed"
    },
    "tags": []
   },
   "outputs": [],
   "source": [
    "import nltk\n",
    "from nltk.corpus import words\n",
    "word_list = words.words()"
   ]
  },
  {
   "cell_type": "markdown",
   "id": "26d0f534",
   "metadata": {
    "papermill": {
     "duration": 0.028542,
     "end_time": "2024-06-01T06:30:57.661312",
     "exception": false,
     "start_time": "2024-06-01T06:30:57.632770",
     "status": "completed"
    },
    "tags": []
   },
   "source": [
    "Then we load another dataset from the NLTK Corpora collection: movie_reviews.\n",
    "\n",
    "The movie reviews are categorized between positive and negative, so we construct a list of words (usually called bag of words) for each category."
   ]
  },
  {
   "cell_type": "code",
   "execution_count": 6,
   "id": "daa038dd",
   "metadata": {
    "execution": {
     "iopub.execute_input": "2024-06-01T06:30:57.718265Z",
     "iopub.status.busy": "2024-06-01T06:30:57.717931Z",
     "iopub.status.idle": "2024-06-01T06:31:04.147014Z",
     "shell.execute_reply": "2024-06-01T06:31:04.145960Z"
    },
    "papermill": {
     "duration": 6.460952,
     "end_time": "2024-06-01T06:31:04.149863",
     "exception": false,
     "start_time": "2024-06-01T06:30:57.688911",
     "status": "completed"
    },
    "tags": []
   },
   "outputs": [],
   "source": [
    "from nltk.corpus import movie_reviews\n",
    "\n",
    "neg_reviews = []\n",
    "pos_reviews = []\n",
    "\n",
    "for fileid in movie_reviews.fileids('neg'):\n",
    "    neg_reviews.extend(movie_reviews.words(fileid))\n",
    "for fileid in movie_reviews.fileids('pos'):\n",
    "    pos_reviews.extend(movie_reviews.words(fileid))"
   ]
  },
  {
   "cell_type": "code",
   "execution_count": 7,
   "id": "d7ac556a",
   "metadata": {
    "execution": {
     "iopub.execute_input": "2024-06-01T06:31:04.207743Z",
     "iopub.status.busy": "2024-06-01T06:31:04.207360Z",
     "iopub.status.idle": "2024-06-01T06:31:04.214380Z",
     "shell.execute_reply": "2024-06-01T06:31:04.213523Z"
    },
    "papermill": {
     "duration": 0.039034,
     "end_time": "2024-06-01T06:31:04.216962",
     "exception": false,
     "start_time": "2024-06-01T06:31:04.177928",
     "status": "completed"
    },
    "tags": []
   },
   "outputs": [
    {
     "data": {
      "text/plain": [
       "['films',\n",
       " 'adapted',\n",
       " 'from',\n",
       " 'comic',\n",
       " 'books',\n",
       " 'have',\n",
       " 'had',\n",
       " 'plenty',\n",
       " 'of',\n",
       " 'success']"
      ]
     },
     "execution_count": 7,
     "metadata": {},
     "output_type": "execute_result"
    }
   ],
   "source": [
    "pos_reviews[0:10]"
   ]
  },
  {
   "cell_type": "markdown",
   "id": "84fba747",
   "metadata": {
    "papermill": {
     "duration": 0.028833,
     "end_time": "2024-06-01T06:31:04.274195",
     "exception": false,
     "start_time": "2024-06-01T06:31:04.245362",
     "status": "completed"
    },
    "tags": []
   },
   "source": [
    "Here we get a data stream (word_list) and 2 query lists (neg_reviews and pos_reviews)."
   ]
  },
  {
   "cell_type": "markdown",
   "id": "88e46518",
   "metadata": {
    "papermill": {
     "duration": 0.027781,
     "end_time": "2024-06-01T06:31:04.330256",
     "exception": false,
     "start_time": "2024-06-01T06:31:04.302475",
     "status": "completed"
    },
    "tags": []
   },
   "source": [
    "### 1. Write a function that accurately determines whether each word in neg_reviews and pos_reviews belongs to word_list."
   ]
  },
  {
   "cell_type": "code",
   "execution_count": 8,
   "id": "2a372c6b",
   "metadata": {
    "execution": {
     "iopub.execute_input": "2024-06-01T06:31:04.388084Z",
     "iopub.status.busy": "2024-06-01T06:31:04.387749Z",
     "iopub.status.idle": "2024-06-01T06:31:04.396286Z",
     "shell.execute_reply": "2024-06-01T06:31:04.395463Z"
    },
    "papermill": {
     "duration": 0.040584,
     "end_time": "2024-06-01T06:31:04.398753",
     "exception": false,
     "start_time": "2024-06-01T06:31:04.358169",
     "status": "completed"
    },
    "tags": []
   },
   "outputs": [],
   "source": [
    "# Your code here, you can add cells if necessary\n",
    "from tqdm import tqdm\n",
    "\n",
    "def is_in_word_list(word_list, reviews):\n",
    "    res = []\n",
    "    for word in tqdm(reviews, total=len(reviews), desc=\"linear search\"):\n",
    "        if word in word_list:\n",
    "            res.append(word)\n",
    "    return res\n",
    "\n",
    "def judge_in(word_list,reviews):\n",
    "    res = []\n",
    "    for i in  tqdm(range(len(reviews)), desc=\"judging\"):\n",
    "        res.append(reviews[i] in word_list)\n",
    "    return res\n",
    "\n",
    "\n",
    "# neg_reviews_in_word_list = is_in_word_list(word_list, neg_reviews)\n",
    "# pos_reviews_in_word_list = is_in_word_list(word_list, pos_reviews)\n",
    "\n",
    "# print(\"Number of words in word_list:\", len(word_list))\n",
    "# print(\"Number of negative review words in word_list:\", len(neg_reviews_in_word_list))\n",
    "# print(\"Number of positive review words in word_list:\", len(pos_reviews_in_word_list))\n",
    "\n",
    "# judges = judge_in(word_list, neg_reviews)\n",
    "\n"
   ]
  },
  {
   "cell_type": "markdown",
   "id": "4debe140",
   "metadata": {
    "papermill": {
     "duration": 0.027976,
     "end_time": "2024-06-01T06:31:04.454931",
     "exception": false,
     "start_time": "2024-06-01T06:31:04.426955",
     "status": "completed"
    },
    "tags": []
   },
   "source": [
    " ### 2. Implement the bloom filter by yourself and add all words in word_list in your bloom filter. Compare the running time difference between linear search on a list and multiple hash computations in a Bloom filter."
   ]
  },
  {
   "cell_type": "code",
   "execution_count": 9,
   "id": "930347bc",
   "metadata": {
    "execution": {
     "iopub.execute_input": "2024-06-01T06:31:04.513719Z",
     "iopub.status.busy": "2024-06-01T06:31:04.513351Z",
     "iopub.status.idle": "2024-06-01T06:31:09.718764Z",
     "shell.execute_reply": "2024-06-01T06:31:09.717635Z"
    },
    "papermill": {
     "duration": 5.238848,
     "end_time": "2024-06-01T06:31:09.721891",
     "exception": false,
     "start_time": "2024-06-01T06:31:04.483043",
     "status": "completed"
    },
    "tags": []
   },
   "outputs": [
    {
     "name": "stderr",
     "output_type": "stream",
     "text": [
      "adding words to bloom filter...: 100%|██████████| 236736/236736 [00:05<00:00, 45666.95it/s]\n"
     ]
    }
   ],
   "source": [
    "# Your code here, you can add cells if necessary\n",
    "\n",
    "class BloomFilter:\n",
    "    def __init__(self, size, hash_count):\n",
    "        self.size = size\n",
    "        self.hash_count = hash_count\n",
    "        self.bit_array = np.zeros(size, dtype=bool)\n",
    "        self.hash_functions = self._generate_hash_functions()\n",
    "\n",
    "    def _generate_hash_functions(self):\n",
    "        def hash_function_factory(i):\n",
    "            def hash_function(x):\n",
    "                return int(hashlib.md5((str(i) + x).encode('utf-8')).hexdigest(), 16) % self.size\n",
    "            return hash_function\n",
    "        \n",
    "        return [hash_function_factory(i) for i in range(self.hash_count)]\n",
    "    \n",
    "    def add(self, item):\n",
    "        for hash_func in self.hash_functions:\n",
    "            index = hash_func(item)\n",
    "            self.bit_array[index] = True\n",
    "    \n",
    "    def check(self, item):\n",
    "        return all(self.bit_array[hash_func(item)] for hash_func in self.hash_functions)\n",
    "\n",
    "# Initialize Bloom filter\n",
    "bloom_filter_size = 500000\n",
    "hash_count = 7\n",
    "bloom_filter = BloomFilter(bloom_filter_size, hash_count)\n",
    "\n",
    "# Add all words to the Bloom filter\n",
    "for word in tqdm(word_list, desc=\"adding words to bloom filter...\"):\n",
    "    bloom_filter.add(word)\n",
    "\n",
    "\n",
    "# Function to perform linear search\n",
    "def linear_search(words_list, review):\n",
    "    return judge_in(words_list, review)\n",
    "\n",
    "def bloom_search(words_list, reviews):\n",
    "    res = []\n",
    "    for word in tqdm(reviews, total=len(reviews), desc=\"bloom search\"):\n",
    "        res.append(bloom_filter.check(word))\n",
    "    return res"
   ]
  },
  {
   "cell_type": "code",
   "execution_count": 10,
   "id": "c7823ef1",
   "metadata": {
    "execution": {
     "iopub.execute_input": "2024-06-01T06:31:09.831267Z",
     "iopub.status.busy": "2024-06-01T06:31:09.830943Z",
     "iopub.status.idle": "2024-06-01T07:45:29.169430Z",
     "shell.execute_reply": "2024-06-01T07:45:29.168123Z"
    },
    "papermill": {
     "duration": 4459.397202,
     "end_time": "2024-06-01T07:45:29.172485",
     "exception": false,
     "start_time": "2024-06-01T06:31:09.775283",
     "status": "completed"
    },
    "tags": []
   },
   "outputs": [
    {
     "name": "stderr",
     "output_type": "stream",
     "text": [
      "judging: 100%|██████████| 832564/832564 [38:41<00:00, 358.66it/s]\n",
      "bloom search: 100%|██████████| 832564/832564 [00:18<00:00, 45722.93it/s]\n",
      "judging: 100%|██████████| 751256/751256 [35:03<00:00, 357.17it/s]\n",
      "bloom search: 100%|██████████| 751256/751256 [00:16<00:00, 45710.67it/s]"
     ]
    },
    {
     "name": "stdout",
     "output_type": "stream",
     "text": [
      "Linear search on positive reviews result count: 832564\n",
      "Bloom filter check on positive reviews result count: 832564\n",
      "Running time for linear search on positive reviews: 2321.315118789673\n",
      "Running time for Bloom filter check on positive reviews: 18.212610960006714\n",
      "Linear search on negative reviews result count: 751256\n",
      "Bloom filter check on negative reviews result count: 751256\n",
      "Running time for linear search on negative reviews: 2103.355593919754\n",
      "Running time for Bloom filter check on negative reviews: 16.439258337020874\n"
     ]
    },
    {
     "name": "stderr",
     "output_type": "stream",
     "text": [
      "\n"
     ]
    }
   ],
   "source": [
    "import time\n",
    "# Measure time for linear search on positive reviews\n",
    "start_time_linear_pos = time.time()\n",
    "result_linear_pos = linear_search(word_list, pos_reviews)\n",
    "end_time_linear_pos = time.time()\n",
    "\n",
    "# Measure time for Bloom filter check on positive reviews\n",
    "start_time_bloom_pos = time.time()\n",
    "result_bloom_pos = bloom_search(word_list, pos_reviews)\n",
    "end_time_bloom_pos = time.time()\n",
    "\n",
    "# Measure time for linear search on negative reviews\n",
    "start_time_linear_neg = time.time()\n",
    "result_linear_neg = linear_search(word_list, neg_reviews)\n",
    "end_time_linear_neg = time.time()\n",
    "\n",
    "# Measure time for Bloom filter check on negative reviews\n",
    "start_time_bloom_neg = time.time()\n",
    "result_bloom_neg = bloom_search(word_list, neg_reviews)\n",
    "end_time_bloom_neg = time.time()\n",
    "\n",
    "print(\"Linear search on positive reviews result count:\", len(result_linear_pos))\n",
    "print(\"Bloom filter check on positive reviews result count:\", len(result_bloom_pos))\n",
    "print(\"Running time for linear search on positive reviews:\", end_time_linear_pos - start_time_linear_pos)\n",
    "print(\"Running time for Bloom filter check on positive reviews:\", end_time_bloom_pos - start_time_bloom_pos)\n",
    "\n",
    "print(\"Linear search on negative reviews result count:\", len(result_linear_neg))\n",
    "print(\"Bloom filter check on negative reviews result count:\", len(result_bloom_neg))\n",
    "print(\"Running time for linear search on negative reviews:\", end_time_linear_neg - start_time_linear_neg)\n",
    "print(\"Running time for Bloom filter check on negative reviews:\", end_time_bloom_neg - start_time_bloom_neg)"
   ]
  },
  {
   "cell_type": "markdown",
   "id": "6db11191",
   "metadata": {
    "papermill": {
     "duration": 20.059348,
     "end_time": "2024-06-01T07:46:09.374344",
     "exception": false,
     "start_time": "2024-06-01T07:45:49.314996",
     "status": "completed"
    },
    "tags": []
   },
   "source": [
    "### 3. Use different bit array length `m` and number of hash functions `k` to implement the bloom filter algorithm. Then compare the impact of different `m` and `k` on the false positive rate."
   ]
  },
  {
   "cell_type": "code",
   "execution_count": 12,
   "id": "bd290a32",
   "metadata": {
    "execution": {
     "iopub.execute_input": "2024-06-01T07:47:46.234989Z",
     "iopub.status.busy": "2024-06-01T07:47:46.234137Z",
     "iopub.status.idle": "2024-06-01T08:08:28.160686Z",
     "shell.execute_reply": "2024-06-01T08:08:28.159646Z"
    },
    "papermill": {
     "duration": 1261.984673,
     "end_time": "2024-06-01T08:08:28.163367",
     "exception": false,
     "start_time": "2024-06-01T07:47:26.178694",
     "status": "completed"
    },
    "tags": []
   },
   "outputs": [
    {
     "name": "stdout",
     "output_type": "stream",
     "text": [
      "m = 200000, k = 3\n"
     ]
    },
    {
     "name": "stderr",
     "output_type": "stream",
     "text": [
      "adding words: 100%|██████████| 236736/236736 [00:02<00:00, 96274.52it/s]\n",
      "checking words: 832564it [00:09, 89350.29it/s]\n"
     ]
    },
    {
     "name": "stdout",
     "output_type": "stream",
     "text": [
      "fp on pos 221778\n"
     ]
    },
    {
     "name": "stderr",
     "output_type": "stream",
     "text": [
      "checking words: 751256it [00:08, 89953.86it/s]\n"
     ]
    },
    {
     "name": "stdout",
     "output_type": "stream",
     "text": [
      "fp on neg 200757\n",
      "fp 0.26678221009963254\n",
      "m = 200000, k = 7\n"
     ]
    },
    {
     "name": "stderr",
     "output_type": "stream",
     "text": [
      "adding words: 100%|██████████| 236736/236736 [00:05<00:00, 44815.27it/s]\n",
      "checking words: 832564it [00:19, 43256.35it/s]\n"
     ]
    },
    {
     "name": "stdout",
     "output_type": "stream",
     "text": [
      "fp on pos 232319\n"
     ]
    },
    {
     "name": "stderr",
     "output_type": "stream",
     "text": [
      "checking words: 751256it [00:17, 43567.93it/s]\n"
     ]
    },
    {
     "name": "stdout",
     "output_type": "stream",
     "text": [
      "fp on neg 210140\n",
      "fp 0.27936192244068137\n",
      "m = 200000, k = 11\n"
     ]
    },
    {
     "name": "stderr",
     "output_type": "stream",
     "text": [
      "adding words: 100%|██████████| 236736/236736 [00:07<00:00, 29954.58it/s]\n",
      "checking words: 832564it [00:28, 29137.78it/s]\n"
     ]
    },
    {
     "name": "stdout",
     "output_type": "stream",
     "text": [
      "fp on pos 232426\n"
     ]
    },
    {
     "name": "stderr",
     "output_type": "stream",
     "text": [
      "checking words: 751256it [00:25, 28908.25it/s]\n"
     ]
    },
    {
     "name": "stdout",
     "output_type": "stream",
     "text": [
      "fp on neg 210252\n",
      "fp 0.2795001957293127\n",
      "m = 200000, k = 15\n"
     ]
    },
    {
     "name": "stderr",
     "output_type": "stream",
     "text": [
      "adding words: 100%|██████████| 236736/236736 [00:11<00:00, 21146.92it/s]\n",
      "checking words: 832564it [00:38, 21839.21it/s]\n"
     ]
    },
    {
     "name": "stdout",
     "output_type": "stream",
     "text": [
      "fp on pos 232436\n"
     ]
    },
    {
     "name": "stderr",
     "output_type": "stream",
     "text": [
      "checking words: 751256it [00:34, 21512.81it/s]\n"
     ]
    },
    {
     "name": "stdout",
     "output_type": "stream",
     "text": [
      "fp on neg 210258\n",
      "fp 0.2795102978873862\n",
      "m = 300000, k = 3\n"
     ]
    },
    {
     "name": "stderr",
     "output_type": "stream",
     "text": [
      "adding words: 100%|██████████| 236736/236736 [00:02<00:00, 97195.20it/s]\n",
      "checking words: 832564it [00:08, 93714.05it/s]\n"
     ]
    },
    {
     "name": "stdout",
     "output_type": "stream",
     "text": [
      "fp on pos 170136\n"
     ]
    },
    {
     "name": "stderr",
     "output_type": "stream",
     "text": [
      "checking words: 751256it [00:08, 91794.53it/s]\n"
     ]
    },
    {
     "name": "stdout",
     "output_type": "stream",
     "text": [
      "fp on neg 153148\n",
      "fp 0.20411662941495878\n",
      "m = 300000, k = 7\n"
     ]
    },
    {
     "name": "stderr",
     "output_type": "stream",
     "text": [
      "adding words: 100%|██████████| 236736/236736 [00:05<00:00, 45277.63it/s]\n",
      "checking words: 832564it [00:18, 44461.09it/s]\n"
     ]
    },
    {
     "name": "stdout",
     "output_type": "stream",
     "text": [
      "fp on pos 229265\n"
     ]
    },
    {
     "name": "stderr",
     "output_type": "stream",
     "text": [
      "checking words: 751256it [00:17, 43442.12it/s]\n"
     ]
    },
    {
     "name": "stdout",
     "output_type": "stream",
     "text": [
      "fp on neg 207292\n",
      "fp 0.2756354888813123\n",
      "m = 300000, k = 11\n"
     ]
    },
    {
     "name": "stderr",
     "output_type": "stream",
     "text": [
      "adding words: 100%|██████████| 236736/236736 [00:08<00:00, 28926.26it/s]\n",
      "checking words: 832564it [00:28, 28989.33it/s]\n"
     ]
    },
    {
     "name": "stdout",
     "output_type": "stream",
     "text": [
      "fp on pos 232343\n"
     ]
    },
    {
     "name": "stderr",
     "output_type": "stream",
     "text": [
      "checking words: 751256it [00:25, 29060.31it/s]\n"
     ]
    },
    {
     "name": "stdout",
     "output_type": "stream",
     "text": [
      "fp on neg 210214\n",
      "fp 0.2794237981588817\n",
      "m = 300000, k = 15\n"
     ]
    },
    {
     "name": "stderr",
     "output_type": "stream",
     "text": [
      "adding words: 100%|██████████| 236736/236736 [00:10<00:00, 22211.47it/s]\n",
      "checking words: 832564it [00:38, 21747.23it/s]\n"
     ]
    },
    {
     "name": "stdout",
     "output_type": "stream",
     "text": [
      "fp on pos 232428\n"
     ]
    },
    {
     "name": "stderr",
     "output_type": "stream",
     "text": [
      "checking words: 751256it [00:34, 21613.94it/s]\n"
     ]
    },
    {
     "name": "stdout",
     "output_type": "stream",
     "text": [
      "fp on neg 210257\n",
      "fp 0.2795046154234698\n",
      "m = 400000, k = 3\n"
     ]
    },
    {
     "name": "stderr",
     "output_type": "stream",
     "text": [
      "adding words: 100%|██████████| 236736/236736 [00:02<00:00, 96986.04it/s]\n",
      "checking words: 832564it [00:09, 87530.92it/s]\n"
     ]
    },
    {
     "name": "stdout",
     "output_type": "stream",
     "text": [
      "fp on pos 144855\n"
     ]
    },
    {
     "name": "stderr",
     "output_type": "stream",
     "text": [
      "checking words: 751256it [00:08, 93108.59it/s]\n"
     ]
    },
    {
     "name": "stdout",
     "output_type": "stream",
     "text": [
      "fp on neg 130069\n",
      "fp 0.17358285663774925\n",
      "m = 400000, k = 7\n"
     ]
    },
    {
     "name": "stderr",
     "output_type": "stream",
     "text": [
      "adding words: 100%|██████████| 236736/236736 [00:05<00:00, 46279.81it/s]\n",
      "checking words: 832564it [00:18, 45317.97it/s]\n"
     ]
    },
    {
     "name": "stdout",
     "output_type": "stream",
     "text": [
      "fp on pos 169867\n"
     ]
    },
    {
     "name": "stderr",
     "output_type": "stream",
     "text": [
      "checking words: 751256it [00:16, 45101.81it/s]\n"
     ]
    },
    {
     "name": "stdout",
     "output_type": "stream",
     "text": [
      "fp on neg 156793\n",
      "fp 0.20624818476847118\n",
      "m = 400000, k = 11\n"
     ]
    },
    {
     "name": "stderr",
     "output_type": "stream",
     "text": [
      "adding words: 100%|██████████| 236736/236736 [00:08<00:00, 29159.71it/s]\n",
      "checking words: 832564it [00:29, 28603.11it/s]\n"
     ]
    },
    {
     "name": "stdout",
     "output_type": "stream",
     "text": [
      "fp on pos 230606\n"
     ]
    },
    {
     "name": "stderr",
     "output_type": "stream",
     "text": [
      "checking words: 751256it [00:26, 28852.44it/s]\n"
     ]
    },
    {
     "name": "stdout",
     "output_type": "stream",
     "text": [
      "fp on neg 208184\n",
      "fp 0.27704537131744766\n",
      "m = 400000, k = 15\n"
     ]
    },
    {
     "name": "stderr",
     "output_type": "stream",
     "text": [
      "adding words: 100%|██████████| 236736/236736 [00:11<00:00, 21051.45it/s]\n",
      "checking words: 832564it [00:39, 21041.21it/s]\n"
     ]
    },
    {
     "name": "stdout",
     "output_type": "stream",
     "text": [
      "fp on pos 232305\n"
     ]
    },
    {
     "name": "stderr",
     "output_type": "stream",
     "text": [
      "checking words: 751256it [00:35, 21162.00it/s]\n"
     ]
    },
    {
     "name": "stdout",
     "output_type": "stream",
     "text": [
      "fp on neg 210147\n",
      "fp 0.2793575027465242\n",
      "m = 500000, k = 3\n"
     ]
    },
    {
     "name": "stderr",
     "output_type": "stream",
     "text": [
      "adding words: 100%|██████████| 236736/236736 [00:02<00:00, 99297.50it/s]\n",
      "checking words: 832564it [00:08, 95056.74it/s]\n"
     ]
    },
    {
     "name": "stdout",
     "output_type": "stream",
     "text": [
      "fp on pos 71594\n"
     ]
    },
    {
     "name": "stderr",
     "output_type": "stream",
     "text": [
      "checking words: 751256it [00:07, 94281.29it/s]\n"
     ]
    },
    {
     "name": "stdout",
     "output_type": "stream",
     "text": [
      "fp on neg 64543\n",
      "fp 0.08595484335341137\n",
      "m = 500000, k = 7\n"
     ]
    },
    {
     "name": "stderr",
     "output_type": "stream",
     "text": [
      "adding words: 100%|██████████| 236736/236736 [00:05<00:00, 46079.74it/s]\n",
      "checking words: 832564it [00:18, 45516.31it/s]\n"
     ]
    },
    {
     "name": "stdout",
     "output_type": "stream",
     "text": [
      "fp on pos 162182\n"
     ]
    },
    {
     "name": "stderr",
     "output_type": "stream",
     "text": [
      "checking words: 751256it [00:16, 45572.11it/s]\n"
     ]
    },
    {
     "name": "stdout",
     "output_type": "stream",
     "text": [
      "fp on neg 143784\n",
      "fp 0.19318230607013423\n",
      "m = 500000, k = 11\n"
     ]
    },
    {
     "name": "stderr",
     "output_type": "stream",
     "text": [
      "adding words: 100%|██████████| 236736/236736 [00:07<00:00, 29983.95it/s]\n",
      "checking words: 832564it [00:29, 28271.43it/s]\n"
     ]
    },
    {
     "name": "stdout",
     "output_type": "stream",
     "text": [
      "fp on pos 223659\n"
     ]
    },
    {
     "name": "stderr",
     "output_type": "stream",
     "text": [
      "checking words: 751256it [00:25, 29090.44it/s]\n"
     ]
    },
    {
     "name": "stdout",
     "output_type": "stream",
     "text": [
      "fp on neg 201788\n",
      "fp 0.2686208028690129\n",
      "m = 500000, k = 15\n"
     ]
    },
    {
     "name": "stderr",
     "output_type": "stream",
     "text": [
      "adding words: 100%|██████████| 236736/236736 [00:10<00:00, 21938.55it/s]\n",
      "checking words: 832564it [00:38, 21652.31it/s]\n"
     ]
    },
    {
     "name": "stdout",
     "output_type": "stream",
     "text": [
      "fp on pos 230843\n"
     ]
    },
    {
     "name": "stderr",
     "output_type": "stream",
     "text": [
      "checking words: 751256it [00:34, 21597.10it/s]\n"
     ]
    },
    {
     "name": "stdout",
     "output_type": "stream",
     "text": [
      "fp on neg 208887\n",
      "fp 0.2776388731042669\n",
      "m = 600000, k = 3\n"
     ]
    },
    {
     "name": "stderr",
     "output_type": "stream",
     "text": [
      "adding words: 100%|██████████| 236736/236736 [00:02<00:00, 97265.40it/s]\n",
      "checking words: 832564it [00:08, 92999.77it/s]\n"
     ]
    },
    {
     "name": "stdout",
     "output_type": "stream",
     "text": [
      "fp on pos 90682\n"
     ]
    },
    {
     "name": "stderr",
     "output_type": "stream",
     "text": [
      "checking words: 751256it [00:08, 93279.08it/s]\n"
     ]
    },
    {
     "name": "stdout",
     "output_type": "stream",
     "text": [
      "fp on neg 79336\n",
      "fp 0.10734679445896629\n",
      "m = 600000, k = 7\n"
     ]
    },
    {
     "name": "stderr",
     "output_type": "stream",
     "text": [
      "adding words: 100%|██████████| 236736/236736 [00:05<00:00, 44775.82it/s]\n",
      "checking words: 832564it [00:18, 45675.51it/s]\n"
     ]
    },
    {
     "name": "stdout",
     "output_type": "stream",
     "text": [
      "fp on pos 135430\n"
     ]
    },
    {
     "name": "stderr",
     "output_type": "stream",
     "text": [
      "checking words: 751256it [00:16, 46383.75it/s]\n"
     ]
    },
    {
     "name": "stdout",
     "output_type": "stream",
     "text": [
      "fp on neg 126262\n",
      "fp 0.16522837191094947\n",
      "m = 600000, k = 11\n"
     ]
    },
    {
     "name": "stderr",
     "output_type": "stream",
     "text": [
      "adding words: 100%|██████████| 236736/236736 [00:07<00:00, 29656.85it/s]\n",
      "checking words: 832564it [00:28, 29316.21it/s]\n"
     ]
    },
    {
     "name": "stdout",
     "output_type": "stream",
     "text": [
      "fp on pos 217619\n"
     ]
    },
    {
     "name": "stderr",
     "output_type": "stream",
     "text": [
      "checking words: 751256it [00:25, 29350.75it/s]\n"
     ]
    },
    {
     "name": "stdout",
     "output_type": "stream",
     "text": [
      "fp on neg 197012\n",
      "fp 0.26179174401131444\n",
      "m = 600000, k = 15\n"
     ]
    },
    {
     "name": "stderr",
     "output_type": "stream",
     "text": [
      "adding words: 100%|██████████| 236736/236736 [00:10<00:00, 21953.19it/s]\n",
      "checking words: 832564it [00:39, 21213.25it/s]\n"
     ]
    },
    {
     "name": "stdout",
     "output_type": "stream",
     "text": [
      "fp on pos 228460\n"
     ]
    },
    {
     "name": "stderr",
     "output_type": "stream",
     "text": [
      "checking words: 751256it [00:34, 21753.27it/s]\n"
     ]
    },
    {
     "name": "stdout",
     "output_type": "stream",
     "text": [
      "fp on neg 206941\n",
      "fp 0.27490560796050056\n",
      "m = 700000, k = 3\n"
     ]
    },
    {
     "name": "stderr",
     "output_type": "stream",
     "text": [
      "adding words: 100%|██████████| 236736/236736 [00:02<00:00, 98037.79it/s]\n",
      "checking words: 832564it [00:08, 95274.05it/s]\n"
     ]
    },
    {
     "name": "stdout",
     "output_type": "stream",
     "text": [
      "fp on pos 119404\n"
     ]
    },
    {
     "name": "stderr",
     "output_type": "stream",
     "text": [
      "checking words: 751256it [00:08, 93210.64it/s]\n"
     ]
    },
    {
     "name": "stdout",
     "output_type": "stream",
     "text": [
      "fp on neg 106692\n",
      "fp 0.14275359573688928\n",
      "m = 700000, k = 7\n"
     ]
    },
    {
     "name": "stderr",
     "output_type": "stream",
     "text": [
      "adding words: 100%|██████████| 236736/236736 [00:05<00:00, 45455.73it/s]\n",
      "checking words: 832564it [00:17, 46260.27it/s]\n"
     ]
    },
    {
     "name": "stdout",
     "output_type": "stream",
     "text": [
      "fp on pos 140968\n"
     ]
    },
    {
     "name": "stderr",
     "output_type": "stream",
     "text": [
      "checking words: 751256it [00:16, 45584.77it/s]\n"
     ]
    },
    {
     "name": "stdout",
     "output_type": "stream",
     "text": [
      "fp on neg 126810\n",
      "fp 0.16907098028816406\n",
      "m = 700000, k = 11\n"
     ]
    },
    {
     "name": "stderr",
     "output_type": "stream",
     "text": [
      "adding words: 100%|██████████| 236736/236736 [00:07<00:00, 29957.50it/s]\n",
      "checking words: 832564it [00:27, 30168.00it/s]\n"
     ]
    },
    {
     "name": "stdout",
     "output_type": "stream",
     "text": [
      "fp on pos 181758\n"
     ]
    },
    {
     "name": "stderr",
     "output_type": "stream",
     "text": [
      "checking words: 751256it [00:25, 28947.61it/s]\n"
     ]
    },
    {
     "name": "stdout",
     "output_type": "stream",
     "text": [
      "fp on neg 163703\n",
      "fp 0.21811885188973495\n",
      "m = 700000, k = 15\n"
     ]
    },
    {
     "name": "stderr",
     "output_type": "stream",
     "text": [
      "adding words: 100%|██████████| 236736/236736 [00:10<00:00, 22212.65it/s]\n",
      "checking words: 832564it [00:37, 21912.81it/s]\n"
     ]
    },
    {
     "name": "stdout",
     "output_type": "stream",
     "text": [
      "fp on pos 221608\n"
     ]
    },
    {
     "name": "stderr",
     "output_type": "stream",
     "text": [
      "checking words: 751256it [00:34, 21907.04it/s]\n"
     ]
    },
    {
     "name": "stdout",
     "output_type": "stream",
     "text": [
      "fp on neg 201368\n",
      "fp 0.2670606508315339\n"
     ]
    },
    {
     "data": {
      "image/png": "[encoded data removed]",
      "text/plain": [
       "<Figure size 720x576 with 2 Axes>"
      ]
     },
     "metadata": {
      "needs_background": "light"
     },
     "output_type": "display_data"
    }
   ],
   "source": [
    "# Your code here, you can add cells if necessary\n",
    "import random\n",
    "\n",
    "gt_pos = result_linear_pos # len(pos_reviews), True if word in word_list\n",
    "gt_neg = result_linear_neg\n",
    "\n",
    "import random\n",
    "import matplotlib.pyplot as plt\n",
    "import seaborn as sns\n",
    "\n",
    "def calculate_false_positive_rate(bloom_filter, word_list, gt):\n",
    "    false_positives = 0\n",
    "    for i, word in tqdm(enumerate(word_list), desc=\"checking words\"):\n",
    "        if bloom_filter.check(word) and not gt[i]:\n",
    "            false_positives += 1\n",
    "    return false_positives\n",
    "\n",
    "\n",
    "# Different configurations for m and k\n",
    "m_values = [200000,300000, 400000, 500000, 600000, 700000]\n",
    "k_values = [3, 7, 11, 15]\n",
    "false_positive_rates = np.zeros((len(m_values), len(k_values)))\n",
    "\n",
    "# Ground truth for positive and negative reviews\n",
    "gt_pos = result_linear_pos\n",
    "gt_neg = result_linear_neg\n",
    "\n",
    "for i, m in enumerate(m_values):\n",
    "    for j, k in enumerate(k_values):\n",
    "        print(f\"m = {m}, k = {k}\")\n",
    "        del bloom_filter\n",
    "        bloom_filter = BloomFilter(m, k)\n",
    "        for word in tqdm(word_list, desc=\"adding words\"):\n",
    "            bloom_filter.add(word)\n",
    "        \n",
    "        # Calculate false positive rate on test set\n",
    "        false_positive_cnt_on_pos = calculate_false_positive_rate(bloom_filter,pos_reviews, gt_pos)\n",
    "        print(\"fp on pos\", false_positive_cnt_on_pos)\n",
    "        false_positive_cnt_on_neg = calculate_false_positive_rate(bloom_filter,neg_reviews, gt_neg)\n",
    "        print(\"fp on neg\", false_positive_cnt_on_neg)\n",
    "        false_positive_rate = (false_positive_cnt_on_pos + false_positive_cnt_on_neg) / (len(gt_pos) + len(gt_neg))\n",
    "        print(\"fp\", false_positive_rate)\n",
    "        false_positive_rates[i, j] = false_positive_rate\n",
    "\n",
    "# Plot the heatmap\n",
    "plt.figure(figsize=(10, 8))\n",
    "sns.heatmap(false_positive_rates, annot=True, xticklabels=k_values, yticklabels=m_values, cmap='YlGnBu')\n",
    "plt.title('False Positive Rate Heatmap')\n",
    "plt.xlabel('Number of Hash Functions (k)')\n",
    "plt.ylabel('Bit Array Length (m)')\n",
    "plt.show()\n",
    "\n"
   ]
  }
 ],
 "metadata": {
  "kaggle": {
   "accelerator": "none",
   "dataSources": [
    {
     "datasetId": 2169405,
     "sourceId": 5717144,
     "sourceType": "datasetVersion"
    }
   ],
   "dockerImageVersionId": 30184,
   "isGpuEnabled": false,
   "isInternetEnabled": true,
   "language": "python",
   "sourceType": "notebook"
  },
  "kernelspec": {
   "display_name": "Python 3",
   "language": "python",
   "name": "python3"
  },
  "language_info": {
   "codemirror_mode": {
    "name": "ipython",
    "version": 3
   },
   "file_extension": ".py",
   "mimetype": "text/x-python",
   "name": "python",
   "nbconvert_exporter": "python",
   "pygments_lexer": "ipython3",
   "version": "3.7.12"
  },
  "papermill": {
   "default_parameters": {},
   "duration": 5895.540589,
   "end_time": "2024-06-01T08:08:55.511933",
   "environment_variables": {},
   "exception": null,
   "input_path": "__notebook__.ipynb",
   "output_path": "__notebook__.ipynb",
   "parameters": {},
   "start_time": "2024-06-01T06:30:39.971344",
   "version": "2.3.4"
  }
 },
 "nbformat": 4,
 "nbformat_minor": 5
}
