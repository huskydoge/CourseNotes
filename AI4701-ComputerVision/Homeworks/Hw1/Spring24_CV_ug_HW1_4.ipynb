{
 "cells": [
  {
   "cell_type": "markdown",
   "metadata": {},
   "source": [
    " 计算机视觉（24春）作业1-4 (25分)\n",
    "---\n",
    "\n",
    "## 题目: DLT算法的使用\n",
    "- **给定理想二维匹配点对集合，请使用DLT算法估计其所对应的单应性矩阵H。**\n",
    "- 二维匹配点数据文件名为：2D_correspondences4DLT_H.txt\n",
    "    - 存储格式为：每行4个数，分别为 (x1, y1, x2, y2)，表示两个平面间的匹配点坐标。\n",
    "- 请在下面的代码框中编写DLT算法的实现，并输出估计得到的单应性矩阵H。\n",
    "\n",
    "---\n",
    "### 环境配置：以anaconda为例\n",
    "\n",
    "```shell\n",
    "    # anaconda的安装请根据自己的操作系统下载对应的安装包，官网链接：https://www.anaconda.com/products/distribution\n",
    "    # 具体安装过程可以参考知乎，b站，CSDN等网站上的安装教程\n",
    "    # 假设你已经成功安装了anaconda，打开terminal（linux/mac）or Anaconda Prompt（windows）\n",
    "    cd <你的文件夹路径>\n",
    "    conda create -n cv python=3.8 # 创建python虚拟环境，名字为cv，python版本为3.8\n",
    "    conda activate cv # 激活虚拟环境\n",
    "    conda install jupyter notebook # 安装jupyter notebook\n",
    "    pip install --upgrade pip # 升级pip\n",
    "    pip install opencv-python # 安装opencv\n",
    "    pip install numpy # 安装numpy\n",
    "    jupyter notebook # 运行jupyter notebook\n",
    "    # 上一条指令将在默认的网页浏览器中开启一个新的工作空间，你可以在其中打开该.ipynb文件\n",
    "```\n",
    "\n",
    "---"
   ]
  },
  {
   "cell_type": "markdown",
   "metadata": {},
   "source": [
    "## 数据读取与展示部分\n",
    "- 请在下面的代码框中实现对数据的读取与展示。\n",
    "- 评分细则：\n",
    "    1.数据读取与展示的正确性。（5分）"
   ]
  },
  {
   "cell_type": "code",
   "execution_count": 1,
   "metadata": {},
   "outputs": [
    {
     "name": "stdout",
     "output_type": "stream",
     "text": [
      "[[54.88135039 71.51893664  0.68667351  3.72021807]\n",
      " [60.27633761 54.4883183   0.79776499  3.60792972]\n",
      " [42.36547993 64.58941131  0.64428247  3.76152253]\n",
      " [43.75872113 89.17730008  0.57349348  3.83416893]\n",
      " [96.36627605 38.34415188  1.07993083  3.32594529]\n",
      " [79.17250381 52.88949198  0.89884038  3.50755548]\n",
      " [56.80445611 92.55966383  0.62655524  3.781624  ]\n",
      " [ 7.10360582  8.71292997  0.71414076  3.64447226]\n",
      " [ 2.02183974 83.26198455  0.31403196  4.09162811]\n",
      " [77.81567509 87.00121482  0.73101596  3.67739109]]\n",
      "[[[54.88135039273247, 71.51893663724195], [0.6866735123515855, 3.720218074625621]], [[60.276337607164386, 54.48831829968969], [0.7977649932521848, 3.6079297186517345]], [[42.36547993389047, 64.58941130666561], [0.644282469091861, 3.7615225341500578]], [[43.75872112626925, 89.17730007820798], [0.5734934788866926, 3.834168934491985]], [[96.36627605010293, 38.34415188257777], [1.0799308264121767, 3.3259452850839932]], [[79.17250380826646, 52.88949197529045], [0.8988403820408728, 3.507555484122706]], [[56.80445610939323, 92.5596638292661], [0.6265552397623269, 3.7816240045336915]], [[7.103605819788694, 8.712929970154072], [0.7141407606494478, 3.6444722597213075]], [[2.021839744032572, 83.2619845547938], [0.31403196429432656, 4.091628106753371]], [[77.81567509498505, 87.00121482468191], [0.7310159589293976, 3.677391087190065]]]\n"
     ]
    }
   ],
   "source": [
    "# Code here\n",
    "\n",
    "# hint: use np.loadtxt\n",
    "\n",
    "import numpy as np\n",
    "\n",
    "data_path = \"2D_correspondences4DLT_H.txt\"\n",
    "\n",
    "raw_data = np.loadtxt(data_path)\n",
    "\n",
    "print(raw_data)\n",
    "\n",
    "data_pairs = []\n",
    "\n",
    "for pair in raw_data:\n",
    "    data_pairs.append([[pair[0], pair[1]], [pair[2], pair[3]]])\n",
    "    \n",
    "print(data_pairs)"
   ]
  },
  {
   "cell_type": "markdown",
   "metadata": {},
   "source": [
    "---\n",
    "\n",
    "## 数据处理部分\n",
    "- 请在下面的代码框中实现数据的预处理，主要为齐次坐标的构造，并展示你的处理结果。\n",
    "- 评分细则：\n",
    "    1. 齐次坐标构造是否正确（5分）"
   ]
  },
  {
   "cell_type": "code",
   "execution_count": 2,
   "metadata": {},
   "outputs": [
    {
     "name": "stdout",
     "output_type": "stream",
     "text": [
      "[[[54.88135039273247, 71.51893663724195, 1], [0.6866735123515855, 3.720218074625621, 1]], [[60.276337607164386, 54.48831829968969, 1], [0.7977649932521848, 3.6079297186517345, 1]], [[42.36547993389047, 64.58941130666561, 1], [0.644282469091861, 3.7615225341500578, 1]], [[43.75872112626925, 89.17730007820798, 1], [0.5734934788866926, 3.834168934491985, 1]], [[96.36627605010293, 38.34415188257777, 1], [1.0799308264121767, 3.3259452850839932, 1]], [[79.17250380826646, 52.88949197529045, 1], [0.8988403820408728, 3.507555484122706, 1]], [[56.80445610939323, 92.5596638292661, 1], [0.6265552397623269, 3.7816240045336915, 1]], [[7.103605819788694, 8.712929970154072, 1], [0.7141407606494478, 3.6444722597213075, 1]], [[2.021839744032572, 83.2619845547938, 1], [0.31403196429432656, 4.091628106753371, 1]], [[77.81567509498505, 87.00121482468191, 1], [0.7310159589293976, 3.677391087190065, 1]]]\n"
     ]
    }
   ],
   "source": [
    "# Code here\n",
    "\n",
    "for pair in data_pairs:\n",
    "    # print(pair)\n",
    "    pair[0].append(1)\n",
    "    pair[1].append(1)\n",
    "    \n",
    "print(data_pairs) # 10 pairs"
   ]
  },
  {
   "cell_type": "markdown",
   "metadata": {},
   "source": [
    "--- \n",
    "\n",
    "## DLT算法实现部分\n",
    "- 请在下面的代码框中实现DLT算法，并输出估计得到的单应性矩阵H。\n",
    "- 注意：\n",
    "    1. 你可以直接使用cv2.findHomography()函数，如果采用此方法，请在下面的Markdown框中附上手算的过程和结果，并对比两种方法的结果。\n",
    "        - 评分细则：\n",
    "            - opencv函数调用是否正确（5分）\n",
    "    2. 你也可以自己实现DLT算法，此时则**不需要**附上手算的过程和结果。\n",
    "        - 评分细则：\n",
    "            - DLT算法实现是否正确（10分）\n",
    "            - 结果是否正确（5分）"
   ]
  },
  {
   "cell_type": "code",
   "execution_count": 3,
   "metadata": {},
   "outputs": [
    {
     "name": "stdout",
     "output_type": "stream",
     "text": [
      "[[1.707 0.586 1.   ]\n",
      " [2.707 8.242 2.   ]\n",
      " [1.    2.    1.   ]]\n"
     ]
    }
   ],
   "source": [
    "# Code here\n",
    "\n",
    "# try to implement DLT\n",
    "\n",
    "# Step1: Calculate A_i Matrix (2 * 9) for each point\n",
    "\n",
    "A_list = []\n",
    "for itemp in data_pairs:\n",
    "    x_i = np.array(itemp[0])\n",
    "    x_i_s = itemp[1][0]\n",
    "    y_i_s = itemp[1][1]\n",
    "    w_i_s = itemp[1][2]\n",
    "\n",
    "    A = np.block(\n",
    "        [\n",
    "            [np.zeros(3), -w_i_s * x_i, y_i_s * x_i],\n",
    "            [w_i_s * x_i, np.zeros(3), -x_i_s * x_i],\n",
    "        ]\n",
    "    )\n",
    "\n",
    "    A_list.append(A)\n",
    "\n",
    "# Step2: Assemble A Matrix into (2n * 9)\n",
    "\n",
    "A_assembled = np.vstack(A_list)\n",
    "\n",
    "\n",
    "# Step3: Obtain the SVD of A, the unit singular vector correspponding to the smallest singular value is the solution\n",
    "\n",
    "U, D, V = np.linalg.svd(A_assembled) # D is the list of diagonal values, descending order\n",
    "\n",
    "# Step4: Extract the solution from V\n",
    "\n",
    "h = V[-1, :]\n",
    "H = h.reshape(3, 3)\n",
    "H = H / H[2,2]\n",
    "print(H)\n",
    "\n"
   ]
  },
  {
   "cell_type": "code",
   "execution_count": 4,
   "metadata": {},
   "outputs": [
    {
     "name": "stdout",
     "output_type": "stream",
     "text": [
      "[[1.7067319  0.58590676 0.9999535 ]\n",
      " [2.70657362 8.24069996 2.00026096]\n",
      " [0.99984264 1.99968433 1.        ]]\n"
     ]
    }
   ],
   "source": [
    "\n",
    "# Compare the results with opencv build-in function cv2.findHomography()\n",
    "\n",
    "import cv2\n",
    "\n",
    "src_pts = np.array([itemp[0:2] for itemp in raw_data])\n",
    "\n",
    "dst_pts = np.array([itemp[2:4] for itemp in raw_data])\n",
    "\n",
    "H_cv2, _ = cv2.findHomography(src_pts, dst_pts)\n",
    "\n",
    "print(H_cv2) # the results only match up to a scale factor (\\approx -10), which is acceptable\n",
    "\n",
    "# 结果在误差范围内一致"
   ]
  },
  {
   "cell_type": "markdown",
   "metadata": {},
   "source": [
    "---\n",
    "*如果直接调用cv2.findHomography()函数，请在此处附上手算的过程和结果：*\n",
    "- 如有需要，请熟悉Latex和Markdown的相关语法，方便书写数学公式和文字说明。\n",
    "- 评分细则：\n",
    "    - 算法流程正确性（4分）\n",
    "    - SVD分解结果正确性（4分）\n",
    "    - 两种方法结果一致性（2分）\n",
    "- 以下为答题区域，可以使用多个Markdown或者Code单元格\n",
    "\n",
    "---"
   ]
  },
  {
   "cell_type": "markdown",
   "metadata": {},
   "source": []
  }
 ],
 "metadata": {
  "kernelspec": {
   "display_name": "Python 3",
   "language": "python",
   "name": "python3"
  },
  "language_info": {
   "codemirror_mode": {
    "name": "ipython",
    "version": 3
   },
   "file_extension": ".py",
   "mimetype": "text/x-python",
   "name": "python",
   "nbconvert_exporter": "python",
   "pygments_lexer": "ipython3",
   "version": "3.10.2"
  }
 },
 "nbformat": 4,
 "nbformat_minor": 2
}
